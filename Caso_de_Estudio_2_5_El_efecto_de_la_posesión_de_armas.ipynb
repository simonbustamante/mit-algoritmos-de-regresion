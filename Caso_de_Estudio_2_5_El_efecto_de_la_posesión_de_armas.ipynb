{
  "cells": [
    {
      "cell_type": "markdown",
      "metadata": {
        "id": "view-in-github",
        "colab_type": "text"
      },
      "source": [
        "<a href=\"https://colab.research.google.com/github/simonbustamante/mit-algoritmos-de-regresion/blob/master/Caso_de_Estudio_2_5_El_efecto_de_la_posesi%C3%B3n_de_armas.ipynb\" target=\"_parent\"><img src=\"https://colab.research.google.com/assets/colab-badge.svg\" alt=\"Open In Colab\"/></a>"
      ]
    },
    {
      "cell_type": "markdown",
      "metadata": {
        "id": "Ap6PxEEcYAEi"
      },
      "source": [
        "# Caso de Estudio 2.5 - El efecto de la posesión de armas en las tasas de homicidio\n"
      ]
    },
    {
      "cell_type": "markdown",
      "metadata": {
        "id": "-4F9CWywe4P2"
      },
      "source": [
        "Configuración del *notebook*:"
      ]
    },
    {
      "cell_type": "markdown",
      "metadata": {
        "id": "Azi08KciuAmF"
      },
      "source": [
        "Sincronice su cuenta de Google. Para ello, siga el link que aparece en la salida de la siguiente celda una vez ejecutada. Copie el código que le aparece en pantalla e introdúzcalo en la salida de la celda. Una vez vea el mensaje: `Google Drive sincronizado con éxito!` puede continuar ejecutando el resto de celdas."
      ]
    },
    {
      "cell_type": "code",
      "execution_count": null,
      "metadata": {
        "id": "jGYcsLShi5Tp"
      },
      "outputs": [],
      "source": [
        "from google.colab import auth\n",
        "auth.authenticate_user()\n",
        "\n",
        "from pydrive.auth import GoogleAuth\n",
        "from pydrive.drive import GoogleDrive\n",
        "from google.colab import auth\n",
        "from oauth2client.client import GoogleCredentials\n",
        "\n",
        "gauth = GoogleAuth()\n",
        "gauth.credentials = GoogleCredentials.get_application_default()\n",
        "drive = GoogleDrive(gauth)\n",
        "data_drop = drive.CreateFile({'id':'1wRXji7OJE6mAs_obWZc0U_fHyW63JP82'})\n",
        "data_drop.GetContentFile('gun_clean.csv')\n",
        "data_drop = drive.CreateFile({'id':'1aIbjCQWQXHaCTWku1asywKeNq6dTTC9e'})\n",
        "data_drop.GetContentFile('Cond-comp.R')\n",
        "data_drop = drive.CreateFile({'id':'1IQqdJnEiSqXSfOgpRxozyxlthDYiW1bX'})\n",
        "data_drop.GetContentFile('Functions.R')\n",
        "\n",
        "print('Google Drive sincronizado con éxito!')"
      ]
    },
    {
      "cell_type": "code",
      "execution_count": null,
      "metadata": {
        "id": "UF-N5UbBiNyA"
      },
      "outputs": [],
      "source": [
        "!pip install rpy2==3.5.1\n",
        "%load_ext rpy2.ipython"
      ]
    },
    {
      "cell_type": "markdown",
      "metadata": {
        "id": "X9R1w4MDOKmC"
      },
      "source": [
        "Instalar e importar librerías:\n",
        "\n",
        "(ignorar resultados a no ser que no se muestre la frase: `Librerías instaladas con éxito!`)\n",
        "\n",
        "(podría tardar unos cuantos minutos)"
      ]
    },
    {
      "cell_type": "code",
      "execution_count": null,
      "metadata": {
        "id": "e0ASVAAlOJXS"
      },
      "outputs": [],
      "source": [
        "%%R --noreturn\n",
        "# Instalar librerías\n",
        "\n",
        "install.packages(\"foreign\")\n",
        "install.packages(\"quantreg\")\n",
        "install.packages(\"mnormt\")\n",
        "install.packages(\"gbm\")\n",
        "install.packages(\"glmnet\")\n",
        "install.packages(\"MASS\")\n",
        "install.packages(\"rpart\")\n",
        "install.packages(\"sandwich\")\n",
        "install.packages(\"hdm\")\n",
        "install.packages(\"randomForest\")\n",
        "install.packages(\"nnet\")\n",
        "install.packages(\"neuralnet\")\n",
        "install.packages(\"caret\")\n",
        "install.packages(\"matrixStats\")\n",
        "install.packages(\"devtools\")\n",
        "install.packages(\"plyr\")\n",
        "\n",
        "cat('\\n¡Librerías instaladas con éxito!')"
      ]
    },
    {
      "cell_type": "markdown",
      "metadata": {
        "id": "zJN7EdonOLH9"
      },
      "source": [
        "Importar librerías:"
      ]
    },
    {
      "cell_type": "code",
      "execution_count": null,
      "metadata": {
        "id": "UO0-PUuwOMFs"
      },
      "outputs": [],
      "source": [
        "%%R\n",
        "# Cargar librerías\n",
        "library(foreign)\n",
        "library(quantreg)\n",
        "library(mnormt)\n",
        "library(gbm)\n",
        "library(glmnet)\n",
        "library(MASS)\n",
        "library(rpart)\n",
        "library(sandwich)\n",
        "library(hdm)\n",
        "library(randomForest)\n",
        "library(nnet)\n",
        "library(neuralnet)\n",
        "library(caret)\n",
        "library(matrixStats)\n",
        "library(devtools)\n",
        "library(plyr)\n",
        "\n",
        "cat('\\n¡Librerías importadas con éxito!')"
      ]
    },
    {
      "cell_type": "markdown",
      "metadata": {
        "id": "pX_9V1PRObO9"
      },
      "source": [
        "Importar funciones de archivos externos:"
      ]
    },
    {
      "cell_type": "code",
      "execution_count": null,
      "metadata": {
        "id": "bDtDe9zhKMpb"
      },
      "outputs": [],
      "source": [
        "%%R\n",
        "source(\"Cond-comp.R\")\n",
        "source(\"Functions.R\")"
      ]
    },
    {
      "cell_type": "markdown",
      "metadata": {
        "id": "cCrYx6lWIK5t"
      },
      "source": [
        "## Datos"
      ]
    },
    {
      "cell_type": "code",
      "execution_count": null,
      "metadata": {
        "id": "yW_pvsbyJHYW"
      },
      "outputs": [],
      "source": [
        "%%R\n",
        "# Establecer generador de números aleatorios\n",
        "set.seed(1)\n",
        "\n",
        "# Cargar la base de datos\n",
        "data <- read.csv(\"gun_clean.csv\", sep = \",\", header = TRUE)\n",
        "\n",
        "# Tabla para guardar los resultados\n",
        "table <- matrix(0,12,2)"
      ]
    },
    {
      "cell_type": "markdown",
      "metadata": {
        "id": "KSf142JzMcHP"
      },
      "source": [
        "Recuperar los nombres de las variables de la base de datos:"
      ]
    },
    {
      "cell_type": "code",
      "execution_count": null,
      "metadata": {
        "id": "tDmUDiEKJHaw"
      },
      "outputs": [],
      "source": [
        "%%R\n",
        "varlist <- function (df=NULL,type=c(\"numeric\",\"factor\",\"character\"), pattern=\"\", exclude=NULL) {\n",
        "  vars <- character(0)\n",
        "  if (any(type %in% \"numeric\")) {\n",
        "    vars <- c(vars,names(df)[sapply(df,is.numeric)])\n",
        "  }\n",
        "  if (any(type %in% \"factor\")) {\n",
        "    vars <- c(vars,names(df)[sapply(df,is.factor)])\n",
        "  }\n",
        "  if (any(type %in% \"character\")) {\n",
        "    vars <- c(vars,names(df)[sapply(df,is.character)])\n",
        "  }\n",
        "  vars[(!vars %in% exclude) & grepl(vars,pattern=pattern)]\n",
        "}"
      ]
    },
    {
      "cell_type": "markdown",
      "metadata": {
        "id": "Q4hzylUCMhK9"
      },
      "source": [
        "Crear variables:"
      ]
    },
    {
      "cell_type": "code",
      "execution_count": null,
      "metadata": {
        "id": "-6hJKLDfJHe8"
      },
      "outputs": [],
      "source": [
        "%%R\n",
        "# Variables binarias para los efectos temporales y de condados\n",
        "fixed  <- grep(\"X_Jfips\", names(data), value=TRUE, fixed=TRUE)\n",
        "year   <- varlist(data, pattern=\"X_Tyear\")\n",
        "\n",
        "# Variables de control del censo\n",
        "census     <- NULL\n",
        "census_var <- c(\"^AGE\", \"^BN\", \"^BP\", \"^BZ\", \"^ED\", \"^EL\",\"^HI\", \"^HS\", \"^INC\", \"^LF\", \"^LN\", \"^PI\", \"^PO\", \"^PP\", \"^PV\", \"^SPR\", \"^VS\")\n",
        "\n",
        "for(i in 1:length(census_var)){\n",
        "  census  <- append(census, varlist(data, pattern=census_var[i]))\n",
        "}\n",
        "\n",
        "# Regresor objetivo (variable de tratamiento)\n",
        "d     <- \"logfssl\"\n",
        "\n",
        "# Variable de resultado\n",
        "y     <- \"logghomr\"\n",
        "\n",
        "# Otras variables de control\n",
        "X1    <- c(\"logrobr\", \"logburg\", \"burg_missing\", \"robrate_missing\")\n",
        "X2    <- c(\"newblack\", \"newfhh\", \"newmove\", \"newdens\", \"newmal\")"
      ]
    },
    {
      "cell_type": "markdown",
      "metadata": {
        "id": "lOn5amO6JEIX"
      },
      "source": [
        "## Metodología"
      ]
    },
    {
      "cell_type": "markdown",
      "metadata": {
        "id": "vHwxC0Q_NHiS"
      },
      "source": [
        "Extracción parcial de los efectos temporales y de condados:"
      ]
    },
    {
      "cell_type": "code",
      "execution_count": null,
      "metadata": {
        "id": "Abs-lTa9JIJ3"
      },
      "outputs": [],
      "source": [
        "%%R\n",
        "# Nuevo conjunto de datos para las variables parcialmente extraídas\n",
        "rdata    <- as.data.frame(data$CountyCode)\n",
        "colnames(rdata) <- \"CountyCode\"\n",
        "\n",
        "# Variables a ser parcialmente extraídas\n",
        "varlist <- c(y, d,X1, X2, census)\n",
        "\n",
        "# Extracción parcial de los efectos temporales y de condado en las variables de varlist\n",
        "for(i in 1:length(varlist)){\n",
        "  form <- as.formula(paste(varlist[i], \"~\", paste(paste(year,collapse=\"+\"),  paste(fixed,collapse=\"+\"), sep=\"+\")))\n",
        "  rdata[, varlist[i]] <- lm(form, data)$residuals\n",
        "}"
      ]
    },
    {
      "cell_type": "markdown",
      "metadata": {
        "id": "FxqeEpvJNVLE"
      },
      "source": [
        "Regresión lineal:"
      ]
    },
    {
      "cell_type": "code",
      "execution_count": null,
      "metadata": {
        "id": "eYRePmqwJIMF"
      },
      "outputs": [],
      "source": [
        "%%R\n",
        "form1 <- as.formula(paste(y, \"~\", d ))\n",
        "form2 <- as.formula(paste(y, \"~\", paste(d, paste(X1,collapse=\"+\"), paste(X2,collapse=\"+\"), paste(census,collapse=\"+\"),   sep=\"+\")))\n",
        "\n",
        "table[1,1:2] <- summary(lm(form1, rdata))$coef[2,1:2]\n",
        "table[2,1:2] <- summary(lm(form2, rdata))$coef[2,1:2]"
      ]
    },
    {
      "cell_type": "markdown",
      "metadata": {
        "id": "3drS7MmgNr3k"
      },
      "source": [
        "Métodos Dobles de Machine Learning (*Double Machine Learning Methods*, Chernozhukov et al., 2018):\n",
        "\n",
        "(podría llevar unos minutos su ejecución)"
      ]
    },
    {
      "cell_type": "code",
      "execution_count": null,
      "metadata": {
        "id": "XKGvwSMcJIOI"
      },
      "outputs": [],
      "source": [
        "%%R\n",
        "# Variable de resultado\n",
        "y.name      <-  y;\n",
        "\n",
        "# Regresor objetivo (también: variable de tratamiento)\n",
        "d.name      <- d;\n",
        "\n",
        "# Controles\n",
        "x.name      <- paste(paste(X1,collapse=\"+\"),  paste(X2,collapse=\"+\"), paste(census,collapse=\"+\"), sep=\"+\") # use this for tree-based methods like forests and boosted trees\n",
        "\n",
        "# Nombres de los métodos\n",
        "method      <- c(\"RLasso\",\"PostRLasso\", \"Forest\", \"Boosting\", \"Trees\", \"Lasso\", \"Ridge\", \"Elnet\", \"Nnet\")\n",
        "\n",
        "# Función que devuelve la estimación de coeficientes por Métodos Dobles de Machine Learning\n",
        "# lista de argumentos:\n",
        "#    1 : datos\n",
        "#    2 : variable de resultado\n",
        "#    3 : regresor objetivo\n",
        "#    4 : variables de control para métodos basados en árboles\n",
        "#    5 : variables de control para modelos lineales (especificación flexible) - 4 y 5 son iguales en este ejemplo\n",
        "#    6 : nombres de los métodos\n",
        "#    7 : número de separaciones de datos\n",
        "#    8 : modelo parcialmente extraído\n",
        "\n",
        "res <- DoubleML(rdata, y.name, d.name, x.name, x.name, method=method, 2 ,\"plinear\")\n",
        "\n",
        "table[3,1:2]   <-res[,1]\n",
        "table[4,1:2]   <-res[,2]\n",
        "table[5,1:2]  <-res[,3]\n",
        "table[6,1:2] <-res[,4]\n",
        "table[7,1:2] <-res[,5]\n",
        "table[8,1:2] <-res[,6]\n",
        "table[9,1:2] <-res[,7]\n",
        "table[10,1:2] <-res[,8]\n",
        "table[11,1:2] <-res[,9]\n",
        "table[12,1:2] <-res[,10]"
      ]
    },
    {
      "cell_type": "markdown",
      "metadata": {
        "id": "bvl1nOtLJELD"
      },
      "source": [
        "## Resultados"
      ]
    },
    {
      "cell_type": "code",
      "execution_count": null,
      "metadata": {
        "id": "g869aYbUYAEk"
      },
      "outputs": [],
      "source": [
        "%%R\n",
        "# Asignar nombres de columnas y filas\n",
        "colnames(table) <- c(\"Estimación (beta)\", \"Error Estándar\")\n",
        "rownames(table) <- c(\"OLS (sin controles)\", \"OLS\", \"Lasso\", \"Post-Lasso\",\"Random Forest\",\n",
        "                     \"Boosting Trees\",\"Árbol podado\",\"Lasso con VC\", \"Ridge con VC\",\n",
        "                     \"Elastic Net  con VC\",\"Red Neuronal\", \"Mejor predictor\")\n",
        "\n",
        "# Mostrar resultados\n",
        "print(table, digit=3)"
      ]
    }
  ],
  "metadata": {
    "colab": {
      "provenance": [],
      "include_colab_link": true
    },
    "hide_input": false,
    "kernelspec": {
      "display_name": "Python 3",
      "name": "python3"
    },
    "toc": {
      "base_numbering": 1,
      "nav_menu": {},
      "number_sections": true,
      "sideBar": true,
      "skip_h1_title": false,
      "title_cell": "Table of Contents",
      "title_sidebar": "Contents",
      "toc_cell": true,
      "toc_position": {},
      "toc_section_display": true,
      "toc_window_display": false
    },
    "varInspector": {
      "cols": {
        "lenName": 16,
        "lenType": 16,
        "lenVar": 40
      },
      "kernels_config": {
        "python": {
          "delete_cmd_postfix": "",
          "delete_cmd_prefix": "del ",
          "library": "var_list.py",
          "varRefreshCmd": "print(var_dic_list())"
        },
        "r": {
          "delete_cmd_postfix": ") ",
          "delete_cmd_prefix": "rm(",
          "library": "var_list.r",
          "varRefreshCmd": "cat(var_dic_list()) "
        }
      },
      "types_to_exclude": [
        "module",
        "function",
        "builtin_function_or_method",
        "instance",
        "_Feature"
      ],
      "window_display": true
    }
  },
  "nbformat": 4,
  "nbformat_minor": 0
}