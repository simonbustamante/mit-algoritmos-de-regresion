{
  "cells": [
    {
      "cell_type": "markdown",
      "metadata": {
        "id": "view-in-github",
        "colab_type": "text"
      },
      "source": [
        "<a href=\"https://colab.research.google.com/github/simonbustamante/mit-algoritmos-de-regresion/blob/master/Caso_de_Estudio_2_1_Predicci%C3%B3n_de_salarios.ipynb\" target=\"_parent\"><img src=\"https://colab.research.google.com/assets/colab-badge.svg\" alt=\"Open In Colab\"/></a>"
      ]
    },
    {
      "cell_type": "markdown",
      "metadata": {
        "id": "BwaCPLWle4P1"
      },
      "source": [
        "# Caso de Estudio 2.1 - Predicción de salarios"
      ]
    },
    {
      "cell_type": "markdown",
      "metadata": {
        "id": "-4F9CWywe4P2"
      },
      "source": [
        "Configuración del *notebook*:"
      ]
    },
    {
      "cell_type": "markdown",
      "metadata": {
        "id": "Azi08KciuAmF"
      },
      "source": [
        "Sincronice su cuenta de Google. Para ello, siga el link que aparece en la salida de la siguiente celda una vez ejecutada. Copie el código que le aparece en pantalla e introdúzcalo en la salida de la celda. Una vez vea el mensaje: `Google Drive sincronizado con éxito!` puede continuar ejecutando el resto de celdas."
      ]
    },
    {
      "cell_type": "code",
      "execution_count": 13,
      "metadata": {
        "id": "jGYcsLShi5Tp",
        "outputId": "6d24a63b-e4cf-42d7-841a-cbf19ed1932e",
        "colab": {
          "base_uri": "https://localhost:8080/"
        }
      },
      "outputs": [
        {
          "output_type": "stream",
          "name": "stdout",
          "text": [
            "Google Drive sincronizado con éxito!\n"
          ]
        }
      ],
      "source": [
        "from google.colab import auth\n",
        "auth.authenticate_user()\n",
        "\n",
        "from pydrive.auth import GoogleAuth\n",
        "from pydrive.drive import GoogleDrive\n",
        "from google.colab import auth\n",
        "from oauth2client.client import GoogleCredentials\n",
        "from rpy2.robjects import R\n",
        "\n",
        "gauth = GoogleAuth()\n",
        "gauth.credentials = GoogleCredentials.get_application_default()\n",
        "drive = GoogleDrive(gauth)\n",
        "#data_drop = drive.CreateFile({'id':'1LbJhqynkfcmezt1AFsHCJcTHdAsr1M2b'})\n",
        "data_drop = drive.CreateFile({'id':'1U5UQdm43w9zh2w1VDxevQsb-vp3T7YCj'})\n",
        "data_drop.GetContentFile('pay.discrimination.Rdata')\n",
        "\n",
        "print('Google Drive sincronizado con éxito!')"
      ]
    },
    {
      "cell_type": "code",
      "execution_count": 14,
      "metadata": {
        "id": "2b2yatX9uPAB",
        "outputId": "2e43f356-d746-438d-d36b-dcae498ddecb",
        "colab": {
          "base_uri": "https://localhost:8080/"
        }
      },
      "outputs": [
        {
          "output_type": "stream",
          "name": "stdout",
          "text": [
            "Requirement already satisfied: rpy2==3.5.1 in /usr/local/lib/python3.10/dist-packages (3.5.1)\n",
            "Requirement already satisfied: cffi>=1.10.0 in /usr/local/lib/python3.10/dist-packages (from rpy2==3.5.1) (1.16.0)\n",
            "Requirement already satisfied: jinja2 in /usr/local/lib/python3.10/dist-packages (from rpy2==3.5.1) (3.1.3)\n",
            "Requirement already satisfied: pytz in /usr/local/lib/python3.10/dist-packages (from rpy2==3.5.1) (2023.4)\n",
            "Requirement already satisfied: tzlocal in /usr/local/lib/python3.10/dist-packages (from rpy2==3.5.1) (5.2)\n",
            "Requirement already satisfied: pycparser in /usr/local/lib/python3.10/dist-packages (from cffi>=1.10.0->rpy2==3.5.1) (2.21)\n",
            "Requirement already satisfied: MarkupSafe>=2.0 in /usr/local/lib/python3.10/dist-packages (from jinja2->rpy2==3.5.1) (2.1.5)\n",
            "The rpy2.ipython extension is already loaded. To reload it, use:\n",
            "  %reload_ext rpy2.ipython\n"
          ]
        }
      ],
      "source": [
        "! pip install rpy2==3.5.1\n",
        "%load_ext rpy2.ipython"
      ]
    },
    {
      "cell_type": "code",
      "source": [
        "import rpy2.robjects as ro\n",
        "import pandas as pd\n",
        "from rpy2.robjects import pandas2ri\n",
        "\n",
        "# Cargar el archivo .Rdata\n",
        "ro.r['load'](\"pay.discrimination.Rdata\")\n",
        "\n",
        "# Activar la conversión automática de R a pandas DataFrame\n",
        "pandas2ri.activate()\n",
        "\n",
        "# Accede directamente al DataFrame de R convertido a un DataFrame de pandas\n",
        "# Asegurándose de que la conversión automática está activada.\n",
        "data = pandas2ri.conversion.rpy2py(ro.r['data'])\n",
        "\n",
        "# Verificar que 'data' es un DataFrame de pandas\n",
        "print(type(data))\n",
        "\n",
        "# Asumiendo que 'data' es un DataFrame, mostrar las dimensiones\n",
        "dims = data.shape\n",
        "print(f\"El DataFrame tiene {dims[0]} filas y {dims[1]} columnas.\")\n",
        "\n",
        "# Mostrar los primeros 10 registros del DataFrame\n",
        "print(\"Primeros 10 registros del DataFrame:\")\n",
        "print(data.head(10))\n",
        "\n",
        "\n"
      ],
      "metadata": {
        "id": "kwJ_Fv9k4A47",
        "outputId": "639640ea-fc32-4e8d-92ec-0f22204bb4e2",
        "colab": {
          "base_uri": "https://localhost:8080/"
        }
      },
      "execution_count": 52,
      "outputs": [
        {
          "output_type": "stream",
          "name": "stdout",
          "text": [
            "<class 'pandas.core.frame.DataFrame'>\n",
            "El DataFrame tiene 3835 filas y 12 columnas.\n",
            "Primeros 10 registros del DataFrame:\n",
            "         female   cg   sc  hsg   mw   so   we   ne  exp1     exp2       exp3  \\\n",
            "1663473     0.0  0.0  0.0  1.0  0.0  0.0  0.0  1.0  33.0  10.8900  35.937000   \n",
            "1663483     0.0  1.0  0.0  0.0  0.0  0.0  0.0  1.0  27.0   7.2900  19.683000   \n",
            "1663490     0.0  0.0  1.0  0.0  0.0  0.0  0.0  1.0  13.0   1.6900   2.197000   \n",
            "1663497     0.0  1.0  0.0  0.0  0.0  0.0  0.0  1.0   2.0   0.0400   0.008000   \n",
            "1663500     1.0  1.0  0.0  0.0  0.0  0.0  0.0  1.0  15.0   2.2500   3.375000   \n",
            "1663511     0.0  0.0  1.0  0.0  0.0  0.0  0.0  1.0   6.5   0.4225   0.274625   \n",
            "1663512     1.0  0.0  1.0  0.0  0.0  0.0  0.0  1.0   6.0   0.3600   0.216000   \n",
            "1663543     0.0  0.0  0.0  1.0  0.0  0.0  0.0  1.0  25.0   6.2500  15.625000   \n",
            "1663557     0.0  0.0  0.0  1.0  0.0  0.0  0.0  1.0  14.0   1.9600   2.744000   \n",
            "1663592     0.0  0.0  1.0  0.0  0.0  0.0  0.0  1.0  26.0   6.7600  17.576000   \n",
            "\n",
            "              wage  \n",
            "1663473  11.659091  \n",
            "1663483  12.825000  \n",
            "1663490   5.777027  \n",
            "1663497  12.468750  \n",
            "1663500  18.525000  \n",
            "1663511  11.400000  \n",
            "1663512   7.775199  \n",
            "1663543  16.031250  \n",
            "1663557   9.750000  \n",
            "1663592   5.455714  \n"
          ]
        }
      ]
    },
    {
      "cell_type": "code",
      "source": [
        "%%R\n",
        "load(\"pay.discrimination.Rdata\")\n",
        "dims  <- dim(data)\n",
        "dims"
      ],
      "metadata": {
        "id": "1zwH43FTdAv3",
        "outputId": "f909e014-90b8-499d-fe8f-64ff25b85ab7",
        "colab": {
          "base_uri": "https://localhost:8080/"
        }
      },
      "execution_count": 53,
      "outputs": [
        {
          "output_type": "stream",
          "name": "stdout",
          "text": [
            "[1] 3835   12\n"
          ]
        }
      ]
    },
    {
      "cell_type": "markdown",
      "metadata": {
        "id": "7usuoX7qe4P6"
      },
      "source": [
        "## Datos\n"
      ]
    },
    {
      "cell_type": "code",
      "execution_count": 54,
      "metadata": {
        "id": "NSSaV6MOe4P6",
        "outputId": "7ab3774f-43a0-4584-a733-83b498a54fe8",
        "colab": {
          "base_uri": "https://localhost:8080/"
        }
      },
      "outputs": [
        {
          "output_type": "stream",
          "name": "stdout",
          "text": [
            "'data.frame':\t3835 obs. of  12 variables:\n",
            " $ female: num  0 0 0 0 1 0 1 0 0 0 ...\n",
            " $ cg    : num  0 1 0 1 1 0 0 0 0 0 ...\n",
            " $ sc    : num  0 0 1 0 0 1 1 0 0 1 ...\n",
            " $ hsg   : num  1 0 0 0 0 0 0 1 1 0 ...\n",
            " $ mw    : num  0 0 0 0 0 0 0 0 0 0 ...\n",
            " $ so    : num  0 0 0 0 0 0 0 0 0 0 ...\n",
            " $ we    : num  0 0 0 0 0 0 0 0 0 0 ...\n",
            " $ ne    : num  1 1 1 1 1 1 1 1 1 1 ...\n",
            " $ exp1  : num  33 27 13 2 15 6.5 6 25 14 26 ...\n",
            " $ exp2  : num  10.89 7.29 1.69 0.04 2.25 ...\n",
            " $ exp3  : num  35.937 19.683 2.197 0.008 3.375 ...\n",
            " $ wage  : num  11.66 12.82 5.78 12.47 18.52 ...\n",
            "\n",
            "Dimensiones de la base de datos: 3835, 12 \n",
            "\n"
          ]
        }
      ],
      "source": [
        "%%R\n",
        "\n",
        "# Cargar la base de datos\n",
        "load(\"pay.discrimination.Rdata\")\n",
        "\"pay.discrimination.Rdata\"\n",
        "\n",
        "# Mostrar las variables de la base de datos\n",
        "#class(data)\n",
        "str(data)\n",
        "\n",
        "# Mostrar dimensiones de la base de datos\n",
        "dims  <- dim(data)\n",
        "cat('\\nDimensiones de la base de datos:',toString(dims),'\\n',fill = TRUE)\n",
        "#print('\\nDimensiones de la base de datos:',toString(dims),'\\n',fill = TRUE)"
      ]
    },
    {
      "cell_type": "markdown",
      "metadata": {
        "id": "f8K9ii1he4P9"
      },
      "source": [
        "Elaboración de una tabla con la media de cada variable:"
      ]
    },
    {
      "cell_type": "code",
      "execution_count": 28,
      "metadata": {
        "id": "UhiKI0-3e4P-",
        "outputId": "80d4b31e-ebff-4ff2-fc3d-7146584195a4",
        "colab": {
          "base_uri": "https://localhost:8080/"
        }
      },
      "outputs": [
        {
          "output_type": "stream",
          "name": "stdout",
          "text": [
            "       KWEAAA\n",
            "female   0.42\n",
            "cg       0.38\n",
            "sc       0.32\n",
            "hsg      0.30\n",
            "mw       0.29\n",
            "so       0.24\n",
            "we       0.21\n",
            "ne       0.26\n",
            "exp1    13.35\n",
            "exp2     2.53\n",
            "exp3     5.81\n",
            "wage    15.53\n"
          ]
        }
      ],
      "source": [
        "%%R\n",
        "# Tabla con la media de cada variable\n",
        "stats <- as.matrix(apply(data, 2, mean))\n",
        "\n",
        "# Asignar el nombre de la columna a stats\n",
        "colnames(stats) = \"KWEAAA\"\n",
        "print(stats,digits=2)"
      ]
    },
    {
      "cell_type": "markdown",
      "metadata": {
        "id": "6WnzcMyDe4QA"
      },
      "source": [
        "## Metodología"
      ]
    },
    {
      "cell_type": "markdown",
      "metadata": {
        "id": "IimAQF3be4QB"
      },
      "source": [
        "### Sin separación de datos"
      ]
    },
    {
      "cell_type": "markdown",
      "metadata": {
        "id": "yKL1ZK_pe4QC"
      },
      "source": [
        "Modelo básico:"
      ]
    },
    {
      "cell_type": "code",
      "execution_count": 29,
      "metadata": {
        "id": "J1wZZi5ye4QC"
      },
      "outputs": [],
      "source": [
        "%%R\n",
        "# Regresión lineal del salario\n",
        "fmla1     <-  wage ~ female + sc + hsg + cg + mw + so + we + ne + exp1 + exp2 + exp3\n",
        "\n",
        "# Ejecución de la especificación lineal y cálculo del EMC y la R^2\n",
        "full.fit1 <-  lm(fmla1, data=data)\n",
        "fit1      <-  summary(full.fit1)\n",
        "R2.1      <-  fit1$r.squared\n",
        "R2.adj1   <-  fit1$adj.r.squared\n",
        "n1        <-  length(fit1$res)\n",
        "p1        <-  fit1$df[1]\n",
        "MSE.adj1  <-  (n1/(n1-p1))*mean(fit1$res^2)"
      ]
    },
    {
      "cell_type": "markdown",
      "metadata": {
        "id": "Zal2YioSe4QE"
      },
      "source": [
        "Modelo flexible:"
      ]
    },
    {
      "cell_type": "code",
      "execution_count": 30,
      "metadata": {
        "id": "q2PplftOe4QF"
      },
      "outputs": [],
      "source": [
        "%%R\n",
        "# Regresión lineal: especificación cuadrática\n",
        "# El operador ^ en el objeto formula especifica el orden de las interacciones\n",
        "fmla2     <- wage ~  female + (sc + hsg + cg + mw + so + we + ne + exp1 + exp2 + exp3)^2\n",
        "\n",
        "# Ejecución de la especificación cuadrática y cálculo del EMC y la R^2<- wage ~  female + (sc + hsg + cg + mw + so + we + ne + exp1 + exp2 + exp3)^\n",
        "full.fit2 <- lm(fmla2, data=data)\n",
        "fit2      <- summary(full.fit2)\n",
        "R2.2      <- fit2$r.squared\n",
        "R2.adj2   <- fit2$adj.r.squared\n",
        "n2        <- length(fit2$res)\n",
        "p2        <- fit2$df[1]\n",
        "MSE.adj2  <- (n2/(n2-p2))*mean(fit2$res^2)"
      ]
    },
    {
      "cell_type": "code",
      "execution_count": 31,
      "metadata": {
        "id": "LfTUXfDbe4QH"
      },
      "outputs": [],
      "source": [
        "%%R\n",
        "# Resumen de las especificaciones lineal y cuadrática\n",
        "table1     <- matrix(0, 2, 4)\n",
        "table1[1,] <- c(p1, R2.1, R2.adj1, MSE.adj1)\n",
        "table1[2,] <- c(p2, R2.2, R2.adj2, MSE.adj2)\n",
        "\n",
        "# Asignar nombres de filas y columnas\n",
        "colnames(table1) <- c(\"p\", \"R^2 muestra\", \"R^2 ajustada\", \"EMC ajustado\")\n",
        "rownames(table1) <- c(\"reg basica\", \"reg flexible\")\n"
      ]
    },
    {
      "cell_type": "markdown",
      "metadata": {
        "id": "BF8impqie4QK"
      },
      "source": [
        "### Con separación de datos"
      ]
    },
    {
      "cell_type": "markdown",
      "metadata": {
        "id": "seZJZ53ce4QL"
      },
      "source": [
        "Modelo básico:"
      ]
    },
    {
      "cell_type": "code",
      "execution_count": 33,
      "metadata": {
        "id": "w3FQuY4Pe4QL"
      },
      "outputs": [],
      "source": [
        "%%R\n",
        "# Estableciendo el generador de números aleatorios\n",
        "set.seed(4)\n",
        "\n",
        "# Regresión lineal del salario\n",
        "fmla1     <-  wage ~ female + sc + hsg + cg + mw + so + we + ne + exp1 + exp2 + exp3\n",
        "\n",
        "# Separación de los datos en los conjuntos de entrenamiento y prueba\n",
        "train      <- sample(1:nrow(data), nrow(data)/2)\n",
        "\n",
        "# Ejecución de la especificación lineal y cálculo del EMC y la R^2 con la muestra de prueba\n",
        "full.fit1  <- lm(fmla1, data=data[train,])\n",
        "yhat.fit1  <- predict(full.fit1, newdata=data[-train,])\n",
        "y.test     <- data[-train,]$wage\n",
        "MSE.fit1   <- summary(lm((y.test-yhat.fit1)^2~1))$coef[1]\n",
        "R2.fit1    <- 1- MSE.fit1/var(y.test)"
      ]
    },
    {
      "cell_type": "markdown",
      "metadata": {
        "id": "26AiMiate4QN"
      },
      "source": [
        "Modelo flexible:"
      ]
    },
    {
      "cell_type": "code",
      "execution_count": 34,
      "metadata": {
        "id": "qL25UIq1e4QO"
      },
      "outputs": [],
      "source": [
        "%%R\n",
        "# Separación de los datos en los conjuntos de entrenamiento y prueba\n",
        "train      <- sample(1:nrow(data), nrow(data)/2)\n",
        "# Regresión lineal: especificación cuadrática\n",
        "# El operador ^ en el objeto formula especifica el orden de las interacciones\n",
        "fmla2     <- wage ~  female + (sc + hsg + cg + mw + so + we + ne + exp1 + exp2 + exp3)^2\n",
        "# Ejecución de la especificación cuadrática y cálculo del EMC y la R^2 con la muestra de prueba\n",
        "full.fit2  <- lm(fmla2, data=data[train,])\n",
        "yhat.fit2  <- predict(full.fit2, newdata=data[-train,])\n",
        "y.test     <- data[-train,]$wage\n",
        "MSE.fit2   <- summary(lm((y.test-yhat.fit2)^2~1))$coef[1]\n",
        "R2.fit2    <- 1- MSE.fit2/var(y.test)"
      ]
    },
    {
      "cell_type": "code",
      "execution_count": 35,
      "metadata": {
        "id": "gDXFHMWHe4QQ"
      },
      "outputs": [],
      "source": [
        "%%R\n",
        "# Elaboración de la tabla de resultados\n",
        "table2      <- matrix(0, 2, 3)\n",
        "table2[1,]  <- c(p1, R2.fit1, MSE.fit1)\n",
        "table2[2,]  <- c(p2, R2.fit2, MSE.fit2)\n",
        "\n",
        "# Asignar nombres de filas y columnas\n",
        "colnames(table2)  <- c(\"p \", \"R^2 test\", \"EMC test\")\n",
        "rownames(table2)  <- c(\"reg basica\", \"reg flexible\")"
      ]
    },
    {
      "cell_type": "markdown",
      "metadata": {
        "id": "OxgDBEnse4QS"
      },
      "source": [
        "## Resultados"
      ]
    },
    {
      "cell_type": "code",
      "execution_count": 36,
      "metadata": {
        "id": "sWJ_4mphe4QS",
        "outputId": "6073e562-be33-4154-caf4-8bd674ca2628",
        "colab": {
          "base_uri": "https://localhost:8080/"
        }
      },
      "outputs": [
        {
          "output_type": "stream",
          "name": "stdout",
          "text": [
            "- Resultados sin separación de datos:\n",
            "\n",
            "              p R^2 muestra R^2 ajustada EMC ajustado\n",
            "reg basica   10     0.09549      0.09336        165.7\n",
            "reg flexible 33     0.10397      0.09643        165.1\n",
            "\n",
            "\n",
            "- Resultados con separación de datos:\n",
            "\n",
            "             p  R^2 test EMC test\n",
            "reg basica   10  0.12340   119.09\n",
            "reg flexible 33  0.09647    99.86\n"
          ]
        }
      ],
      "source": [
        "%%R\n",
        "# Mostrando los resultados\n",
        "cat('- Resultados sin separación de datos:\\n',fill = TRUE)\n",
        "print(table1,digits=4)\n",
        "\n",
        "cat('\\n\\n- Resultados con separación de datos:\\n',fill = TRUE)\n",
        "print(table2,digits=4)"
      ]
    }
  ],
  "metadata": {
    "colab": {
      "provenance": [],
      "gpuType": "T4",
      "include_colab_link": true
    },
    "hide_input": false,
    "kernelspec": {
      "display_name": "Python 3",
      "name": "python3"
    },
    "toc": {
      "base_numbering": 1,
      "nav_menu": {},
      "number_sections": true,
      "sideBar": true,
      "skip_h1_title": false,
      "title_cell": "Table of Contents",
      "title_sidebar": "Contents",
      "toc_cell": true,
      "toc_position": {},
      "toc_section_display": true,
      "toc_window_display": false
    },
    "varInspector": {
      "cols": {
        "lenName": 16,
        "lenType": 16,
        "lenVar": 40
      },
      "kernels_config": {
        "python": {
          "delete_cmd_postfix": "",
          "delete_cmd_prefix": "del ",
          "library": "var_list.py",
          "varRefreshCmd": "print(var_dic_list())"
        },
        "r": {
          "delete_cmd_postfix": ") ",
          "delete_cmd_prefix": "rm(",
          "library": "var_list.r",
          "varRefreshCmd": "cat(var_dic_list()) "
        }
      },
      "types_to_exclude": [
        "module",
        "function",
        "builtin_function_or_method",
        "instance",
        "_Feature"
      ],
      "window_display": true
    }
  },
  "nbformat": 4,
  "nbformat_minor": 0
}