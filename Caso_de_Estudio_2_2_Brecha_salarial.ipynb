{
  "cells": [
    {
      "cell_type": "markdown",
      "metadata": {
        "id": "view-in-github",
        "colab_type": "text"
      },
      "source": [
        "<a href=\"https://colab.research.google.com/github/simonbustamante/mit-algoritmos-de-regresion/blob/master/Caso_de_Estudio_2_2_Brecha_salarial.ipynb\" target=\"_parent\"><img src=\"https://colab.research.google.com/assets/colab-badge.svg\" alt=\"Open In Colab\"/></a>"
      ]
    },
    {
      "cell_type": "markdown",
      "metadata": {
        "id": "UayzanFyXXkF"
      },
      "source": [
        "# Caso de Estudio 2.2 - Brecha salarial entre hombres y mujeres"
      ]
    },
    {
      "cell_type": "markdown",
      "metadata": {
        "id": "-4F9CWywe4P2"
      },
      "source": [
        "Configuración del *notebook*:"
      ]
    },
    {
      "cell_type": "markdown",
      "metadata": {
        "id": "Azi08KciuAmF"
      },
      "source": [
        "Sincronice su cuenta de Google. Para ello, siga el link que aparece en la salida de la siguiente celda una vez ejecutada. Copie el código que le aparece en pantalla e introdúzcalo en la salida de la celda. Una vez vea el mensaje: `Google Drive sincronizado con éxito!` puede continuar ejecutando el resto de celdas."
      ]
    },
    {
      "cell_type": "code",
      "execution_count": 1,
      "metadata": {
        "id": "jGYcsLShi5Tp",
        "outputId": "3b1bdd41-786e-4079-9e73-91f3502e1b81",
        "colab": {
          "base_uri": "https://localhost:8080/"
        }
      },
      "outputs": [
        {
          "output_type": "stream",
          "name": "stderr",
          "text": [
            "WARNING:root:pydrive is deprecated and no longer maintained. We recommend that you migrate your projects to pydrive2, the maintained fork of pydrive\n"
          ]
        },
        {
          "output_type": "stream",
          "name": "stdout",
          "text": [
            "Google Drive sincronizado con éxito!\n"
          ]
        }
      ],
      "source": [
        "from google.colab import auth\n",
        "auth.authenticate_user()\n",
        "\n",
        "from pydrive.auth import GoogleAuth\n",
        "from pydrive.drive import GoogleDrive\n",
        "from google.colab import auth\n",
        "from oauth2client.client import GoogleCredentials\n",
        "\n",
        "gauth = GoogleAuth()\n",
        "gauth.credentials = GoogleCredentials.get_application_default()\n",
        "drive = GoogleDrive(gauth)\n",
        "data_drop = drive.CreateFile({'id':'1U5UQdm43w9zh2w1VDxevQsb-vp3T7YCj'})\n",
        "data_drop.GetContentFile('pay.discrimination.Rdata')\n",
        "\n",
        "print('Google Drive sincronizado con éxito!')"
      ]
    },
    {
      "cell_type": "code",
      "execution_count": 3,
      "metadata": {
        "id": "UF-N5UbBiNyA",
        "outputId": "c80e9afc-f4bc-47f9-a198-7585e999e3bb",
        "colab": {
          "base_uri": "https://localhost:8080/"
        }
      },
      "outputs": [
        {
          "output_type": "stream",
          "name": "stdout",
          "text": [
            "Requirement already satisfied: rpy2==3.5.1 in /usr/local/lib/python3.10/dist-packages (3.5.1)\n",
            "Requirement already satisfied: cffi>=1.10.0 in /usr/local/lib/python3.10/dist-packages (from rpy2==3.5.1) (1.16.0)\n",
            "Requirement already satisfied: jinja2 in /usr/local/lib/python3.10/dist-packages (from rpy2==3.5.1) (3.1.3)\n",
            "Requirement already satisfied: pytz in /usr/local/lib/python3.10/dist-packages (from rpy2==3.5.1) (2023.4)\n",
            "Requirement already satisfied: tzlocal in /usr/local/lib/python3.10/dist-packages (from rpy2==3.5.1) (5.2)\n",
            "Requirement already satisfied: pycparser in /usr/local/lib/python3.10/dist-packages (from cffi>=1.10.0->rpy2==3.5.1) (2.21)\n",
            "Requirement already satisfied: MarkupSafe>=2.0 in /usr/local/lib/python3.10/dist-packages (from jinja2->rpy2==3.5.1) (2.1.5)\n",
            "The rpy2.ipython extension is already loaded. To reload it, use:\n",
            "  %reload_ext rpy2.ipython\n"
          ]
        }
      ],
      "source": [
        "! pip install rpy2==3.5.1\n",
        "%load_ext rpy2.ipython"
      ]
    },
    {
      "cell_type": "code",
      "execution_count": 4,
      "metadata": {
        "id": "X0l-UxzXdoO3",
        "outputId": "c4dba677-0c12-433e-dcfb-871903b10826",
        "colab": {
          "base_uri": "https://localhost:8080/"
        }
      },
      "outputs": [
        {
          "output_type": "stream",
          "name": "stdout",
          "text": [
            "Requirement already satisfied: rpy2==3.5.1 in /usr/local/lib/python3.10/dist-packages (3.5.1)\n",
            "Requirement already satisfied: cffi>=1.10.0 in /usr/local/lib/python3.10/dist-packages (from rpy2==3.5.1) (1.16.0)\n",
            "Requirement already satisfied: jinja2 in /usr/local/lib/python3.10/dist-packages (from rpy2==3.5.1) (3.1.3)\n",
            "Requirement already satisfied: pytz in /usr/local/lib/python3.10/dist-packages (from rpy2==3.5.1) (2023.4)\n",
            "Requirement already satisfied: tzlocal in /usr/local/lib/python3.10/dist-packages (from rpy2==3.5.1) (5.2)\n",
            "Requirement already satisfied: pycparser in /usr/local/lib/python3.10/dist-packages (from cffi>=1.10.0->rpy2==3.5.1) (2.21)\n",
            "Requirement already satisfied: MarkupSafe>=2.0 in /usr/local/lib/python3.10/dist-packages (from jinja2->rpy2==3.5.1) (2.1.5)\n"
          ]
        }
      ],
      "source": [
        "! pip install rpy2==3.5.1"
      ]
    },
    {
      "cell_type": "markdown",
      "metadata": {
        "id": "rB7xqDBBXXkK"
      },
      "source": [
        "## Datos\n"
      ]
    },
    {
      "cell_type": "code",
      "execution_count": 5,
      "metadata": {
        "id": "EijD1XohXXkL",
        "outputId": "151599fa-ac58-467d-f9d7-dc97b1e09e5d",
        "colab": {
          "base_uri": "https://localhost:8080/"
        }
      },
      "outputs": [
        {
          "output_type": "stream",
          "name": "stdout",
          "text": [
            "'data.frame':\t3835 obs. of  12 variables:\n",
            " $ female: num  0 0 0 0 1 0 1 0 0 0 ...\n",
            " $ cg    : num  0 1 0 1 1 0 0 0 0 0 ...\n",
            " $ sc    : num  0 0 1 0 0 1 1 0 0 1 ...\n",
            " $ hsg   : num  1 0 0 0 0 0 0 1 1 0 ...\n",
            " $ mw    : num  0 0 0 0 0 0 0 0 0 0 ...\n",
            " $ so    : num  0 0 0 0 0 0 0 0 0 0 ...\n",
            " $ we    : num  0 0 0 0 0 0 0 0 0 0 ...\n",
            " $ ne    : num  1 1 1 1 1 1 1 1 1 1 ...\n",
            " $ exp1  : num  33 27 13 2 15 6.5 6 25 14 26 ...\n",
            " $ exp2  : num  10.89 7.29 1.69 0.04 2.25 ...\n",
            " $ exp3  : num  35.937 19.683 2.197 0.008 3.375 ...\n",
            " $ wage  : num  11.66 12.82 5.78 12.47 18.52 ...\n",
            "\n",
            "Dimensiones de la base de datos: 3835, 12 \n",
            "\n"
          ]
        }
      ],
      "source": [
        "%%R\n",
        "# Cargar la base de datos\n",
        "load(file=\"pay.discrimination.Rdata\")\n",
        "\n",
        "# Mostrar las variables de la base de datos\n",
        "class(data)\n",
        "str(data)\n",
        "\n",
        "# Adjuntar la base de datos al espacio de trabajo\n",
        "attach(data)\n",
        "\n",
        "# Mostrar dimensiones de la base de datos\n",
        "dims  <- dim(data)\n",
        "cat('\\nDimensiones de la base de datos:',toString(dims),'\\n',fill = TRUE)"
      ]
    },
    {
      "cell_type": "markdown",
      "metadata": {
        "id": "Dmuyu99oXXkO"
      },
      "source": [
        "Elaboración de una tabla con la media de cada variable, controlando por género:"
      ]
    },
    {
      "cell_type": "code",
      "execution_count": 6,
      "metadata": {
        "id": "4xmQkwnJXXkO",
        "outputId": "ac390e6b-400d-4bd5-b102-b1920d7b27b6",
        "colab": {
          "base_uri": "https://localhost:8080/"
        }
      },
      "outputs": [
        {
          "output_type": "stream",
          "name": "stdout",
          "text": [
            "       media hombres media mujeres\n",
            "female          0.00          1.00\n",
            "cg              0.35          0.41\n",
            "sc              0.30          0.35\n",
            "hsg             0.34          0.24\n",
            "mw              0.28          0.29\n",
            "so              0.24          0.26\n",
            "we              0.22          0.20\n",
            "ne              0.26          0.26\n",
            "exp1           13.58         13.04\n",
            "exp2            2.59          2.45\n",
            "exp3            5.96          5.60\n",
            "wage           16.12         14.72\n"
          ]
        }
      ],
      "source": [
        "%%R\n",
        "\n",
        "stats.female  <- as.matrix(apply(data[female==1,], 2, mean))\n",
        "stats.male    <- as.matrix(apply(data[female==0,], 2, mean))\n",
        "stats         <- cbind(stats.male, stats.female)\n",
        "\n",
        "colnames(stats) = c(\"media hombres\", \"media mujeres\")\n",
        "print(stats,digits=2)"
      ]
    },
    {
      "cell_type": "markdown",
      "metadata": {
        "id": "WcQIKfPuXXkR"
      },
      "source": [
        "## Metodología"
      ]
    },
    {
      "cell_type": "markdown",
      "metadata": {
        "id": "3dmY60KRXXkS"
      },
      "source": [
        "### Regresión lineal"
      ]
    },
    {
      "cell_type": "code",
      "execution_count": 7,
      "metadata": {
        "id": "cK04yzbVZzox",
        "outputId": "05a44fdf-19d4-41cf-84e6-6f65d355fb8a",
        "colab": {
          "base_uri": "https://localhost:8080/"
        }
      },
      "outputs": [
        {
          "output_type": "stream",
          "name": "stdout",
          "text": [
            "The rpy2.ipython extension is already loaded. To reload it, use:\n",
            "  %reload_ext rpy2.ipython\n"
          ]
        }
      ],
      "source": [
        "%load_ext rpy2.ipython"
      ]
    },
    {
      "cell_type": "markdown",
      "metadata": {
        "id": "GXlURc-YXXkT"
      },
      "source": [
        "Modelo básico:"
      ]
    },
    {
      "cell_type": "code",
      "execution_count": 8,
      "metadata": {
        "id": "uQPvk8I0XXkT"
      },
      "outputs": [],
      "source": [
        "%%R\n",
        "# Regresión lineal del salario\n",
        "fmla1 <- wage ~ female + sc + cg + mw + so + we + exp1 + exp2 + exp3\n",
        "# Ejecución de OLS, obtener coeficientes, errores estándar e intervalos de confianza del 95%\n",
        "full.fit1 <- lm(fmla1, data=data)\n",
        "est1 <- summary(full.fit1) $coef[2,1:2]\n",
        "ci1 <-  confint(full.fit1)[2,]"
      ]
    },
    {
      "cell_type": "code",
      "execution_count": 8,
      "metadata": {
        "id": "qzL_hxPTZyob"
      },
      "outputs": [],
      "source": []
    },
    {
      "cell_type": "markdown",
      "metadata": {
        "id": "h7eGLY_YXXkV"
      },
      "source": [
        "Modelo flexible:"
      ]
    },
    {
      "cell_type": "code",
      "execution_count": 9,
      "metadata": {
        "id": "UnW2T64DXXkX"
      },
      "outputs": [],
      "source": [
        "%%R\n",
        "# Regresión lineal: especificación cuadrática\n",
        "fmla2     <-  wage ~  female + (sc+ cg+ mw + so + we + exp1 + exp2 + exp3)^2\n",
        "\n",
        "# Ejecución de OLS, obtener coeficientes, errores estándar e intervalos de confianza del 95%\n",
        "full.fit2 <- lm(fmla2, data=data)\n",
        "est2      <- summary(full.fit2)$coef[2,1:2]\n",
        "ci2       <- confint(full.fit2)[2,]"
      ]
    },
    {
      "cell_type": "code",
      "execution_count": 10,
      "metadata": {
        "id": "86DH27IIXXka"
      },
      "outputs": [],
      "source": [
        "%%R\n",
        "# Resumen de las especificaciones lineal y cuadrática\n",
        "table1     <- matrix(0, 2, 4)\n",
        "table1[1,] <- c(est1,ci1)\n",
        "table1[2,] <- c(est2,ci2)\n",
        "\n",
        "# Asignando nombres a filas y columnas\n",
        "colnames(table1) <- c(\"Estimación (beta)\", \"Error estándar\", \"Inter. Conf. Inf.\", \"Inter. Conf. Sup.\")\n",
        "rownames(table1) <- c(\"reg basica\", \"reg flexible\")"
      ]
    },
    {
      "cell_type": "markdown",
      "metadata": {
        "id": "ELESyYM5XXkb"
      },
      "source": [
        "### Extracción parcial"
      ]
    },
    {
      "cell_type": "markdown",
      "metadata": {
        "id": "0AWZs3q1XXkc"
      },
      "source": [
        "Especificación lineal (modelo básico)"
      ]
    },
    {
      "cell_type": "code",
      "execution_count": 11,
      "metadata": {
        "id": "qS881IlBXXkd"
      },
      "outputs": [],
      "source": [
        "%%R\n",
        "# Regresión lineal de y (resultado) en las covariables\n",
        "fmla1.y <- wage ~  sc+ cg+ mw + so + we + exp1 + exp2 + exp3\n",
        "\n",
        "# Regresión lineal de d (regresor objetivo/tratamiento) en las covariables\n",
        "fmla1.d <- female ~  sc+ cg+ mw + so + we + exp1 + exp2 + exp3\n",
        "\n",
        "# Residuales de la regresión de y\n",
        "t.Y    <- lm(fmla1.y, data=data)$res\n",
        "\n",
        "# Residuales de la regresión de d\n",
        "t.D    <-  lm(fmla1.d, data=data)$res\n",
        "\n",
        "\n",
        "# Ejecución de OLS, obtener coeficientes, errores estándar e intervalos de confianza del 95%\n",
        "partial.fit1   <- lm(t.Y~t.D)\n",
        "partial.est1   <- summary(partial.fit1)$coef[2,1:2]\n",
        "partial.ci1    <- confint(partial.fit1)[2,]"
      ]
    },
    {
      "cell_type": "markdown",
      "metadata": {
        "id": "dR-n_2QSXXke"
      },
      "source": [
        "Especificación cuadrática (modelo flexible)"
      ]
    },
    {
      "cell_type": "code",
      "execution_count": 12,
      "metadata": {
        "id": "kngXtnanXXkf"
      },
      "outputs": [],
      "source": [
        "%%R\n",
        "fmla2.y  <- wage ~  (sc+ cg+ mw + so + we + exp1 + exp2 + exp3)^2\n",
        "fmla2.d  <- female ~ (sc+ cg+ mw + so + we + exp1 + exp2 + exp3)^2\n",
        "\n",
        "# Obtener residuales de la regresión lineal\n",
        "t.Y  <- lm(fmla2.y, data=data)$res\n",
        "t.D  <- lm(fmla2.d, data=data)$res\n",
        "\n",
        "# Regresión de los residuales entre ellos para obtener el resultado de la extracción parcial\n",
        "partial.fit2  <-  lm(t.Y~t.D)\n",
        "partial.est2  <-  summary(partial.fit2)$coef[2,1:2]\n",
        "partial.ci2   <-  confint(partial.fit2)[2,]\n",
        "\n",
        "\n",
        "# Crear tabla para recoger los resultados\n",
        "table2     <- matrix(0, 4, 2)\n",
        "table2[1,] <- c(est1)\n",
        "table2[2,] <- c(est2)\n",
        "table2[3,] <- c(partial.est1)\n",
        "table2[4,] <- c(partial.est2)\n",
        "\n",
        "# Asignar nombres de filas y columnas\n",
        "colnames(table2) <- c(\"Estimación (beta)\", \"Error estándar\")\n",
        "rownames(table2) <- c(\"reg basica\", \"reg flexible\", \"reg basica con extr. parcial\", \"reg flexible con extr. parcial\")"
      ]
    },
    {
      "cell_type": "markdown",
      "metadata": {
        "id": "zIsiYIPDXXkh"
      },
      "source": [
        "## Resultados"
      ]
    },
    {
      "cell_type": "code",
      "execution_count": 13,
      "metadata": {
        "id": "ZGbWgfV6XXki",
        "outputId": "fb15a27a-5a1e-4233-d3d0-3ce316d95bce",
        "colab": {
          "base_uri": "https://localhost:8080/"
        }
      },
      "outputs": [
        {
          "output_type": "stream",
          "name": "stdout",
          "text": [
            "- Regresión lineal:\n",
            "\n",
            "             Estimación (beta) Error estándar Inter. Conf. Inf.\n",
            "reg basica               -1.83          0.425             -2.66\n",
            "reg flexible             -1.88          0.425             -2.71\n",
            "             Inter. Conf. Sup.\n",
            "reg basica              -0.994\n",
            "reg flexible            -1.047\n",
            "\n",
            "\n",
            "- Comparación con y sin extracción parcial:\n",
            "\n",
            "                               Estimación (beta) Error estándar\n",
            "reg basica                                 -1.83          0.425\n",
            "reg flexible                               -1.88          0.425\n",
            "reg basica con extr. parcial               -1.83          0.424\n",
            "reg flexible con extr. parcial             -1.88          0.423\n"
          ]
        }
      ],
      "source": [
        "%%R\n",
        "# Mostrar resultados\n",
        "cat('- Regresión lineal:\\n',fill = TRUE)\n",
        "print(table1,digits=3)\n",
        "\n",
        "cat('\\n\\n- Comparación con y sin extracción parcial:\\n',fill = TRUE)\n",
        "print(table2,digits=3)"
      ]
    },
    {
      "cell_type": "code",
      "execution_count": 14,
      "metadata": {
        "id": "tU99AGgSNONX",
        "outputId": "4f627703-a10b-4510-e97b-3fe7059a923d",
        "colab": {
          "base_uri": "https://localhost:8080/"
        }
      },
      "outputs": [
        {
          "output_type": "stream",
          "name": "stdout",
          "text": [
            "\n",
            "Call:\n",
            "lm(formula = t.Y ~ t.D)\n",
            "\n",
            "Coefficients:\n",
            "(Intercept)          t.D  \n",
            " -1.513e-16   -1.826e+00  \n",
            "\n"
          ]
        }
      ],
      "source": [
        "%%R\n",
        "print(partial.fit1)"
      ]
    }
  ],
  "metadata": {
    "colab": {
      "provenance": [],
      "include_colab_link": true
    },
    "hide_input": false,
    "kernelspec": {
      "display_name": "Python 3",
      "name": "python3"
    },
    "toc": {
      "base_numbering": 1,
      "nav_menu": {},
      "number_sections": true,
      "sideBar": true,
      "skip_h1_title": false,
      "title_cell": "Table of Contents",
      "title_sidebar": "Contents",
      "toc_cell": true,
      "toc_position": {},
      "toc_section_display": true,
      "toc_window_display": false
    },
    "varInspector": {
      "cols": {
        "lenName": 16,
        "lenType": 16,
        "lenVar": 40
      },
      "kernels_config": {
        "python": {
          "delete_cmd_postfix": "",
          "delete_cmd_prefix": "del ",
          "library": "var_list.py",
          "varRefreshCmd": "print(var_dic_list())"
        },
        "r": {
          "delete_cmd_postfix": ") ",
          "delete_cmd_prefix": "rm(",
          "library": "var_list.r",
          "varRefreshCmd": "cat(var_dic_list()) "
        }
      },
      "types_to_exclude": [
        "module",
        "function",
        "builtin_function_or_method",
        "instance",
        "_Feature"
      ],
      "window_display": true
    }
  },
  "nbformat": 4,
  "nbformat_minor": 0
}